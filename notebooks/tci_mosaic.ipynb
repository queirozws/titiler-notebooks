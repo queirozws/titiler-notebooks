{
 "cells": [
  {
   "cell_type": "code",
   "execution_count": 1,
   "metadata": {},
   "outputs": [],
   "source": [
    "# Uncomment this line if you need to install the dependencies\n",
    "#!pip install rasterio folium tqdm httpx rio-tiler geojson_pydantic cogeo-mosaic > /dev/null"
   ]
  },
  {
   "cell_type": "code",
   "execution_count": 2,
   "metadata": {},
   "outputs": [],
   "source": [
    "import httpx\n",
    "\n",
    "from rasterio.features import bounds as featureBounds\n",
    "\n",
    "from folium import Map, TileLayer, GeoJson\n",
    "\n",
    "from pystac_client import Client\n",
    "\n",
    "from geojson_pydantic.features import Feature\n",
    "from geojson_pydantic.geometries import Polygon\n",
    "\n",
    "from pprint import pprint"
   ]
  },
  {
   "cell_type": "code",
   "execution_count": 3,
   "metadata": {},
   "outputs": [
    {
     "data": {
      "text/plain": [
       "'33 items found'"
      ]
     },
     "execution_count": 3,
     "metadata": {},
     "output_type": "execute_result"
    }
   ],
   "source": [
    "stac_url = 'https://data.inpe.br/stac/'\n",
    "\n",
    "client = Client.open(stac_url)\n",
    "\n",
    "my_search = client.search(\n",
    "    bbox=[-63,-15,-50,-10],\n",
    "    datetime=\"2023-04-24/2023-04-24\",\n",
    "    collections=['S2_L2A_COG-1']\n",
    ")\n",
    "\n",
    "f\"{my_search.matched()} items found\""
   ]
  },
  {
   "cell_type": "code",
   "execution_count": 4,
   "metadata": {},
   "outputs": [
    {
     "data": {
      "text/plain": [
       "{'type': 'Feature',\n",
       " 'geometry': {'type': 'Polygon',\n",
       "  'coordinates': [[(-57.000183, -10.039321319540866),\n",
       "    (-56.260468, -10.039321319540866),\n",
       "    (-56.260468, -9.045193112731958),\n",
       "    (-57.000183, -9.045193112731958),\n",
       "    (-57.000183, -10.039321319540866)]]},\n",
       " 'properties': {'path': 'https://data.inpe.br/data/S2_L2A_COG/v001/21/L/WK/2023/4/S2B_TCI_20230424T140709_N0509_R110_T21LWK_20230424T164453.tif'}}"
      ]
     },
     "execution_count": 4,
     "metadata": {},
     "output_type": "execute_result"
    }
   ],
   "source": [
    "def getFeatures(item) -> Feature:\n",
    "    \n",
    "    return Feature(\n",
    "        geometry=Polygon.from_bounds(*item.bbox),\n",
    "        properties={\n",
    "            \"path\": item.assets['tci'].href,\n",
    "        }\n",
    "    )\n",
    "\n",
    "\n",
    "features = [ getFeatures(item).dict(exclude_none=True) for item in my_search.items() ]\n",
    "\n",
    "features[0]"
   ]
  },
  {
   "cell_type": "code",
   "execution_count": 5,
   "metadata": {},
   "outputs": [],
   "source": [
    "# from concurrent import futures\n",
    "# from rio_tiler.io import COGReader\n",
    "\n",
    "# # OR We could use Rasterio/rio-tiler\n",
    "\n",
    "# def worker(src_path: str) -> Feature:\n",
    "#     try:\n",
    "#         with COGReader(src_path) as cog:\n",
    "#             wgs_bounds = cog.geographic_bounds\n",
    "#     except:\n",
    "#         return {}\n",
    "\n",
    "#     return Feature(\n",
    "#         geometry=Polygon.from_bounds(*wgs_bounds),\n",
    "#         properties={\n",
    "#             \"path\": src_path,\n",
    "#         }\n",
    "#     )\n",
    "\n",
    "# files = [ item.assets['tci'].href for item in my_search.items() ]\n",
    "\n",
    "# with futures.ThreadPoolExecutor(max_workers=20) as executor:\n",
    "#     features = [r.dict(exclude_none=True) for r in executor.map(worker, files) if r]\n",
    "\n",
    "# features[0]"
   ]
  },
  {
   "cell_type": "code",
   "execution_count": 32,
   "metadata": {},
   "outputs": [
    {
     "name": "stdout",
     "output_type": "stream",
     "text": [
      "(-60.497375, -15.463528953850453, -56.260468, -9.040459945796002)\n"
     ]
    },
    {
     "data": {
      "text/plain": [
       "<folium.features.GeoJson at 0x7fb49525d7c0>"
      ]
     },
     "execution_count": 32,
     "metadata": {},
     "output_type": "execute_result"
    }
   ],
   "source": [
    "geojson = {'type': 'FeatureCollection', 'features': features}\n",
    "\n",
    "bounds = featureBounds(geojson)\n",
    "\n",
    "west, south, east, north = bounds\n",
    "\n",
    "print(bounds)\n",
    "\n",
    "m = Map(\n",
    "    tiles=\"OpenStreetMap\",\n",
    "    location=((south + north) / 2, (west + east) / 2),\n",
    "    zoom_start=1\n",
    ")\n",
    "\n",
    "m.fit_bounds(\n",
    "    bounds=[\n",
    "        [south, west],  # SouthWest\n",
    "        [north, east],  # NorthEast\n",
    "    ]\n",
    ")\n",
    "\n",
    "geo_json = GeoJson(\n",
    "    data=geojson,\n",
    "    style_function=lambda x: {\n",
    "        'opacity': 1, 'dashArray': '1', 'fillOpacity': 0, 'weight': 1\n",
    "    },\n",
    ")\n",
    "\n",
    "geo_json.add_to(m)\n",
    "\n",
    "# m\n"
   ]
  },
  {
   "cell_type": "code",
   "execution_count": 14,
   "metadata": {},
   "outputs": [
    {
     "name": "stdout",
     "output_type": "stream",
     "text": [
      "https://data.inpe.br/data/S2_L2A_COG/v001/21/L/WK/2023/4/S2B_TCI_20230424T140709_N0509_R110_T21LWK_20230424T164453.tif\n",
      "8\n",
      "14\n"
     ]
    }
   ],
   "source": [
    "from rio_tiler.io import COGReader\n",
    "from cogeo_mosaic.mosaic import MosaicJSON\n",
    "from cogeo_mosaic.backends import MosaicBackend\n",
    "\n",
    "print(features[0]['properties']['path'])\n",
    "\n",
    "with COGReader(features[0]['properties']['path']) as cog:\n",
    "    info = cog.info()\n",
    "    print(info.minzoom)\n",
    "    print(info.maxzoom)"
   ]
  },
  {
   "cell_type": "code",
   "execution_count": 21,
   "metadata": {},
   "outputs": [
    {
     "name": "stdout",
     "output_type": "stream",
     "text": [
      "{'attribution': None,\n",
      " 'bounds': (-60.497375, -15.463528953850453, -56.260468, -9.040459945796002),\n",
      " 'center': (-58.378921500000004, -12.251994449823227, 8),\n",
      " 'description': None,\n",
      " 'maxzoom': 14,\n",
      " 'minzoom': 8,\n",
      " 'mosaicjson': '0.0.2',\n",
      " 'name': None,\n",
      " 'quadkey_zoom': 8,\n",
      " 'tiles': {'21010321': ['https://data.inpe.br/data/S2_L2A_COG/v001/21/L/TK/2023/4/S2B_TCI_20230424T140709_N0509_R110_T21LTK_20230424T164453.tif'],\n",
      "           '21010323': ['https://data.inpe.br/data/S2_L2A_COG/v001/21/L/TH/2023/4/S2B_TCI_20230424T140709_N0509_R110_T21LTH_20230424T164453.tif',\n",
      "                        'https://data.inpe.br/data/S2_L2A_COG/v001/20/L/RP/2023/4/S2B_TCI_20230424T140709_N0509_R110_T20LRP_20230424T164453.tif',\n",
      "                        'https://data.inpe.br/data/S2_L2A_COG/v001/20/L/RN/2023/4/S2B_TCI_20230424T140709_N0509_R110_T20LRN_20230424T164453.tif',\n",
      "                        'https://data.inpe.br/data/S2_L2A_COG/v001/21/L/TJ/2023/4/S2B_TCI_20230424T140709_N0509_R110_T21LTJ_20230424T164453.tif',\n",
      "                        'https://data.inpe.br/data/S2_L2A_COG/v001/21/L/TK/2023/4/S2B_TCI_20230424T140709_N0509_R110_T21LTK_20230424T164453.tif'],\n",
      "           '21010330': ['https://data.inpe.br/data/S2_L2A_COG/v001/21/L/VK/2023/4/S2B_TCI_20230424T140709_N0509_R110_T21LVK_20230424T164453.tif',\n",
      "                        'https://data.inpe.br/data/S2_L2A_COG/v001/21/L/UK/2023/4/S2B_TCI_20230424T140709_N0509_R110_T21LUK_20230424T164453.tif',\n",
      "                        'https://data.inpe.br/data/S2_L2A_COG/v001/21/L/TK/2023/4/S2B_TCI_20230424T140709_N0509_R110_T21LTK_20230424T164453.tif'],\n",
      "           '21010331': ['https://data.inpe.br/data/S2_L2A_COG/v001/21/L/WK/2023/4/S2B_TCI_20230424T140709_N0509_R110_T21LWK_20230424T164453.tif',\n",
      "                        'https://data.inpe.br/data/S2_L2A_COG/v001/21/L/VK/2023/4/S2B_TCI_20230424T140709_N0509_R110_T21LVK_20230424T164453.tif'],\n",
      "           '21010332': ['https://data.inpe.br/data/S2_L2A_COG/v001/21/L/TH/2023/4/S2B_TCI_20230424T140709_N0509_R110_T21LTH_20230424T164453.tif',\n",
      "                        'https://data.inpe.br/data/S2_L2A_COG/v001/21/L/VJ/2023/4/S2B_TCI_20230424T140709_N0509_R110_T21LVJ_20230424T164453.tif',\n",
      "                        'https://data.inpe.br/data/S2_L2A_COG/v001/21/L/VK/2023/4/S2B_TCI_20230424T140709_N0509_R110_T21LVK_20230424T164453.tif',\n",
      "                        'https://data.inpe.br/data/S2_L2A_COG/v001/21/L/UH/2023/4/S2B_TCI_20230424T140709_N0509_R110_T21LUH_20230424T164453.tif',\n",
      "                        'https://data.inpe.br/data/S2_L2A_COG/v001/21/L/TJ/2023/4/S2B_TCI_20230424T140709_N0509_R110_T21LTJ_20230424T164453.tif',\n",
      "                        'https://data.inpe.br/data/S2_L2A_COG/v001/21/L/UK/2023/4/S2B_TCI_20230424T140709_N0509_R110_T21LUK_20230424T164453.tif',\n",
      "                        'https://data.inpe.br/data/S2_L2A_COG/v001/21/L/VH/2023/4/S2B_TCI_20230424T140709_N0509_R110_T21LVH_20230424T164453.tif',\n",
      "                        'https://data.inpe.br/data/S2_L2A_COG/v001/21/L/TK/2023/4/S2B_TCI_20230424T140709_N0509_R110_T21LTK_20230424T164453.tif',\n",
      "                        'https://data.inpe.br/data/S2_L2A_COG/v001/21/L/UJ/2023/4/S2B_TCI_20230424T140709_N0509_R110_T21LUJ_20230424T164453.tif'],\n",
      "           '21010333': ['https://data.inpe.br/data/S2_L2A_COG/v001/21/L/WK/2023/4/S2B_TCI_20230424T140709_N0509_R110_T21LWK_20230424T164453.tif',\n",
      "                        'https://data.inpe.br/data/S2_L2A_COG/v001/21/L/VJ/2023/4/S2B_TCI_20230424T140709_N0509_R110_T21LVJ_20230424T164453.tif',\n",
      "                        'https://data.inpe.br/data/S2_L2A_COG/v001/21/L/WJ/2023/4/S2B_TCI_20230424T140709_N0509_R110_T21LWJ_20230424T164453.tif',\n",
      "                        'https://data.inpe.br/data/S2_L2A_COG/v001/21/L/VK/2023/4/S2B_TCI_20230424T140709_N0509_R110_T21LVK_20230424T164453.tif',\n",
      "                        'https://data.inpe.br/data/S2_L2A_COG/v001/21/L/VH/2023/4/S2B_TCI_20230424T140709_N0509_R110_T21LVH_20230424T164453.tif',\n",
      "                        'https://data.inpe.br/data/S2_L2A_COG/v001/21/L/WH/2023/4/S2B_TCI_20230424T140709_N0509_R110_T21LWH_20230424T164453.tif'],\n",
      "           '21012101': ['https://data.inpe.br/data/S2_L2A_COG/v001/21/L/TH/2023/4/S2B_TCI_20230424T140709_N0509_R110_T21LTH_20230424T164453.tif',\n",
      "                        'https://data.inpe.br/data/S2_L2A_COG/v001/20/L/RM/2023/4/S2B_TCI_20230424T140709_N0509_R110_T20LRM_20230424T164453.tif',\n",
      "                        'https://data.inpe.br/data/S2_L2A_COG/v001/20/L/RN/2023/4/S2B_TCI_20230424T140709_N0509_R110_T20LRN_20230424T164453.tif',\n",
      "                        'https://data.inpe.br/data/S2_L2A_COG/v001/21/L/TG/2023/4/S2B_TCI_20230424T140709_N0509_R110_T21LTG_20230424T164453.tif'],\n",
      "           '21012103': ['https://data.inpe.br/data/S2_L2A_COG/v001/20/L/RL/2023/4/S2B_TCI_20230424T140709_N0509_R110_T20LRL_20230424T164453.tif',\n",
      "                        'https://data.inpe.br/data/S2_L2A_COG/v001/21/L/TE/2023/4/S2B_TCI_20230424T140709_N0509_R110_T21LTE_20230424T164453.tif',\n",
      "                        'https://data.inpe.br/data/S2_L2A_COG/v001/20/L/RM/2023/4/S2B_TCI_20230424T140709_N0509_R110_T20LRM_20230424T164453.tif',\n",
      "                        'https://data.inpe.br/data/S2_L2A_COG/v001/20/L/RK/2023/4/S2B_TCI_20230424T140709_N0509_R110_T20LRK_20230424T164453.tif',\n",
      "                        'https://data.inpe.br/data/S2_L2A_COG/v001/20/L/QK/2023/4/S2B_TCI_20230424T140709_N0509_R110_T20LQK_20230424T164453.tif',\n",
      "                        'https://data.inpe.br/data/S2_L2A_COG/v001/21/L/TG/2023/4/S2B_TCI_20230424T140709_N0509_R110_T21LTG_20230424T164453.tif',\n",
      "                        'https://data.inpe.br/data/S2_L2A_COG/v001/21/L/TF/2023/4/S2B_TCI_20230424T140709_N0509_R110_T21LTF_20230424T164453.tif'],\n",
      "           '21012110': ['https://data.inpe.br/data/S2_L2A_COG/v001/21/L/TH/2023/4/S2B_TCI_20230424T140709_N0509_R110_T21LTH_20230424T164453.tif',\n",
      "                        'https://data.inpe.br/data/S2_L2A_COG/v001/21/L/VG/2023/4/S2B_TCI_20230424T140709_N0509_R110_T21LVG_20230424T164453.tif',\n",
      "                        'https://data.inpe.br/data/S2_L2A_COG/v001/21/L/UH/2023/4/S2B_TCI_20230424T140709_N0509_R110_T21LUH_20230424T164453.tif',\n",
      "                        'https://data.inpe.br/data/S2_L2A_COG/v001/21/L/VH/2023/4/S2B_TCI_20230424T140709_N0509_R110_T21LVH_20230424T164453.tif',\n",
      "                        'https://data.inpe.br/data/S2_L2A_COG/v001/21/L/TG/2023/4/S2B_TCI_20230424T140709_N0509_R110_T21LTG_20230424T164453.tif',\n",
      "                        'https://data.inpe.br/data/S2_L2A_COG/v001/21/L/UG/2023/4/S2B_TCI_20230424T140709_N0509_R110_T21LUG_20230424T164453.tif'],\n",
      "           '21012111': ['https://data.inpe.br/data/S2_L2A_COG/v001/21/L/VG/2023/4/S2B_TCI_20230424T140709_N0509_R110_T21LVG_20230424T164453.tif',\n",
      "                        'https://data.inpe.br/data/S2_L2A_COG/v001/21/L/WG/2023/4/S2B_TCI_20230424T140709_N0509_R110_T21LWG_20230424T164453.tif',\n",
      "                        'https://data.inpe.br/data/S2_L2A_COG/v001/21/L/VH/2023/4/S2B_TCI_20230424T140709_N0509_R110_T21LVH_20230424T164453.tif',\n",
      "                        'https://data.inpe.br/data/S2_L2A_COG/v001/21/L/WH/2023/4/S2B_TCI_20230424T140709_N0509_R110_T21LWH_20230424T164453.tif'],\n",
      "           '21012112': ['https://data.inpe.br/data/S2_L2A_COG/v001/21/L/VG/2023/4/S2B_TCI_20230424T140709_N0509_R110_T21LVG_20230424T164453.tif',\n",
      "                        'https://data.inpe.br/data/S2_L2A_COG/v001/21/L/TE/2023/4/S2B_TCI_20230424T140709_N0509_R110_T21LTE_20230424T164453.tif',\n",
      "                        'https://data.inpe.br/data/S2_L2A_COG/v001/21/L/UE/2023/4/S2B_TCI_20230424T140709_N0509_R110_T21LUE_20230424T164453.tif',\n",
      "                        'https://data.inpe.br/data/S2_L2A_COG/v001/21/L/VF/2023/4/S2B_TCI_20230424T140709_N0509_R110_T21LVF_20230424T164453.tif',\n",
      "                        'https://data.inpe.br/data/S2_L2A_COG/v001/21/L/TG/2023/4/S2B_TCI_20230424T140709_N0509_R110_T21LTG_20230424T164453.tif',\n",
      "                        'https://data.inpe.br/data/S2_L2A_COG/v001/21/L/VE/2023/4/S2B_TCI_20230424T140709_N0509_R110_T21LVE_20230424T164453.tif',\n",
      "                        'https://data.inpe.br/data/S2_L2A_COG/v001/21/L/UF/2023/4/S2B_TCI_20230424T140709_N0509_R110_T21LUF_20230424T164453.tif',\n",
      "                        'https://data.inpe.br/data/S2_L2A_COG/v001/21/L/UG/2023/4/S2B_TCI_20230424T140709_N0509_R110_T21LUG_20230424T164453.tif',\n",
      "                        'https://data.inpe.br/data/S2_L2A_COG/v001/21/L/TF/2023/4/S2B_TCI_20230424T140709_N0509_R110_T21LTF_20230424T164453.tif'],\n",
      "           '21012113': ['https://data.inpe.br/data/S2_L2A_COG/v001/21/L/VG/2023/4/S2B_TCI_20230424T140709_N0509_R110_T21LVG_20230424T164453.tif',\n",
      "                        'https://data.inpe.br/data/S2_L2A_COG/v001/21/L/VF/2023/4/S2B_TCI_20230424T140709_N0509_R110_T21LVF_20230424T164453.tif',\n",
      "                        'https://data.inpe.br/data/S2_L2A_COG/v001/21/L/VE/2023/4/S2B_TCI_20230424T140709_N0509_R110_T21LVE_20230424T164453.tif'],\n",
      "           '21012120': ['https://data.inpe.br/data/S2_L2A_COG/v001/20/L/QJ/2023/4/S2B_TCI_20230424T140709_N0509_R110_T20LQJ_20230424T164453.tif'],\n",
      "           '21012121': ['https://data.inpe.br/data/S2_L2A_COG/v001/20/L/RJ/2023/4/S2B_TCI_20230424T140709_N0509_R110_T20LRJ_20230424T164453.tif',\n",
      "                        'https://data.inpe.br/data/S2_L2A_COG/v001/21/L/TE/2023/4/S2B_TCI_20230424T140709_N0509_R110_T21LTE_20230424T164453.tif',\n",
      "                        'https://data.inpe.br/data/S2_L2A_COG/v001/20/L/RK/2023/4/S2B_TCI_20230424T140709_N0509_R110_T20LRK_20230424T164453.tif',\n",
      "                        'https://data.inpe.br/data/S2_L2A_COG/v001/21/L/TD/2023/4/S2B_TCI_20230424T140709_N0509_R110_T21LTD_20230424T164453.tif',\n",
      "                        'https://data.inpe.br/data/S2_L2A_COG/v001/20/L/QK/2023/4/S2B_TCI_20230424T140709_N0509_R110_T20LQK_20230424T164453.tif',\n",
      "                        'https://data.inpe.br/data/S2_L2A_COG/v001/20/L/QJ/2023/4/S2B_TCI_20230424T140709_N0509_R110_T20LQJ_20230424T164453.tif'],\n",
      "           '21012122': ['https://data.inpe.br/data/S2_L2A_COG/v001/20/L/QJ/2023/4/S2B_TCI_20230424T140709_N0509_R110_T20LQJ_20230424T164453.tif'],\n",
      "           '21012123': ['https://data.inpe.br/data/S2_L2A_COG/v001/20/L/RJ/2023/4/S2B_TCI_20230424T140709_N0509_R110_T20LRJ_20230424T164453.tif',\n",
      "                        'https://data.inpe.br/data/S2_L2A_COG/v001/21/L/TD/2023/4/S2B_TCI_20230424T140709_N0509_R110_T21LTD_20230424T164453.tif',\n",
      "                        'https://data.inpe.br/data/S2_L2A_COG/v001/20/L/QJ/2023/4/S2B_TCI_20230424T140709_N0509_R110_T20LQJ_20230424T164453.tif'],\n",
      "           '21012130': ['https://data.inpe.br/data/S2_L2A_COG/v001/21/L/UD/2023/4/S2B_TCI_20230424T140709_N0509_R110_T21LUD_20230424T164453.tif',\n",
      "                        'https://data.inpe.br/data/S2_L2A_COG/v001/21/L/TE/2023/4/S2B_TCI_20230424T140709_N0509_R110_T21LTE_20230424T164453.tif',\n",
      "                        'https://data.inpe.br/data/S2_L2A_COG/v001/21/L/UE/2023/4/S2B_TCI_20230424T140709_N0509_R110_T21LUE_20230424T164453.tif',\n",
      "                        'https://data.inpe.br/data/S2_L2A_COG/v001/21/L/TD/2023/4/S2B_TCI_20230424T140709_N0509_R110_T21LTD_20230424T164453.tif',\n",
      "                        'https://data.inpe.br/data/S2_L2A_COG/v001/21/L/VE/2023/4/S2B_TCI_20230424T140709_N0509_R110_T21LVE_20230424T164453.tif',\n",
      "                        'https://data.inpe.br/data/S2_L2A_COG/v001/21/L/VD/2023/4/S2B_TCI_20230424T140709_N0509_R110_T21LVD_20230424T164453.tif'],\n",
      "           '21012131': ['https://data.inpe.br/data/S2_L2A_COG/v001/21/L/VE/2023/4/S2B_TCI_20230424T140709_N0509_R110_T21LVE_20230424T164453.tif',\n",
      "                        'https://data.inpe.br/data/S2_L2A_COG/v001/21/L/VD/2023/4/S2B_TCI_20230424T140709_N0509_R110_T21LVD_20230424T164453.tif'],\n",
      "           '21012132': ['https://data.inpe.br/data/S2_L2A_COG/v001/21/L/UD/2023/4/S2B_TCI_20230424T140709_N0509_R110_T21LUD_20230424T164453.tif',\n",
      "                        'https://data.inpe.br/data/S2_L2A_COG/v001/21/L/TD/2023/4/S2B_TCI_20230424T140709_N0509_R110_T21LTD_20230424T164453.tif',\n",
      "                        'https://data.inpe.br/data/S2_L2A_COG/v001/21/L/VD/2023/4/S2B_TCI_20230424T140709_N0509_R110_T21LVD_20230424T164453.tif'],\n",
      "           '21012133': ['https://data.inpe.br/data/S2_L2A_COG/v001/21/L/VD/2023/4/S2B_TCI_20230424T140709_N0509_R110_T21LVD_20230424T164453.tif']},\n",
      " 'version': '1.0.0'}\n"
     ]
    }
   ],
   "source": [
    "# We are creating the mosaicJSON using the features we created earlier\n",
    "# by default MosaicJSON.from_feature will look in feature.properties.path to get the path of the dataset\n",
    "\n",
    "mosaicdata = MosaicJSON.from_features(\n",
    "    features, minzoom=info.minzoom, maxzoom=info.maxzoom)\n",
    "\n",
    "mosaicjson_filename = \"/home/wsq/code/python/titiler/titiler-mosaicJSON/mosaic_jsons/tci_mosaic.json\"\n",
    "\n",
    "with MosaicBackend(input=mosaicjson_filename, mosaic_def=mosaicdata) as mosaic:\n",
    "    mosaic.write(overwrite=True)\n",
    "    pprint(mosaic.mosaic_def.dict())\n"
   ]
  },
  {
   "cell_type": "code",
   "execution_count": 28,
   "metadata": {},
   "outputs": [
    {
     "name": "stdout",
     "output_type": "stream",
     "text": [
      "{'tilejson': '2.2.0', 'version': '1.0.0', 'scheme': 'xyz', 'tiles': ['http://0.0.0.0:8000/mosaicjson/tiles/WebMercatorQuad/{z}/{x}/{y}@1x?url=%2Fhome%2Fwsq%2Fcode%2Fpython%2Ftitiler%2Ftitiler-mosaicJSON%2Fmosaic_jsons%2Ftci_mosaic.json'], 'minzoom': 8, 'maxzoom': 14, 'bounds': [-60.497375, -15.463528953850453, -56.260468, -9.040459945796002], 'center': [-58.378921500000004, -12.251994449823227, 8]}\n"
     ]
    }
   ],
   "source": [
    "# titiler_endpoint = \"https://titiler.xyz\"\n",
    "titiler_endpoint = \"http://0.0.0.0:8000\"  # Local endpoint.\n",
    "\n",
    "params = {\n",
    "    \"url\": mosaicjson_filename\n",
    "}\n",
    "\n",
    "response = httpx.get(\n",
    "    f\"{titiler_endpoint}/mosaicjson/tilejson.json\",\n",
    "    params=params\n",
    ").json()\n",
    "\n",
    "print(response)"
   ]
  },
  {
   "cell_type": "code",
   "execution_count": 33,
   "metadata": {},
   "outputs": [
    {
     "data": {
      "text/html": [
       "<div style=\"width:100%;\"><div style=\"position:relative;width:100%;height:0;padding-bottom:60%;\"><span style=\"color:#565656\">Make this Notebook Trusted to load map: File -> Trust Notebook</span><iframe srcdoc=\"&lt;!DOCTYPE html&gt;\n",
       "&lt;html&gt;\n",
       "&lt;head&gt;\n",
       "    \n",
       "    &lt;meta http-equiv=&quot;content-type&quot; content=&quot;text/html; charset=UTF-8&quot; /&gt;\n",
       "    \n",
       "        &lt;script&gt;\n",
       "            L_NO_TOUCH = false;\n",
       "            L_DISABLE_3D = false;\n",
       "        &lt;/script&gt;\n",
       "    \n",
       "    &lt;style&gt;html, body {width: 100%;height: 100%;margin: 0;padding: 0;}&lt;/style&gt;\n",
       "    &lt;style&gt;#map {position:absolute;top:0;bottom:0;right:0;left:0;}&lt;/style&gt;\n",
       "    &lt;script src=&quot;https://cdn.jsdelivr.net/npm/leaflet@1.9.3/dist/leaflet.js&quot;&gt;&lt;/script&gt;\n",
       "    &lt;script src=&quot;https://code.jquery.com/jquery-1.12.4.min.js&quot;&gt;&lt;/script&gt;\n",
       "    &lt;script src=&quot;https://cdn.jsdelivr.net/npm/bootstrap@5.2.2/dist/js/bootstrap.bundle.min.js&quot;&gt;&lt;/script&gt;\n",
       "    &lt;script src=&quot;https://cdnjs.cloudflare.com/ajax/libs/Leaflet.awesome-markers/2.0.2/leaflet.awesome-markers.js&quot;&gt;&lt;/script&gt;\n",
       "    &lt;link rel=&quot;stylesheet&quot; href=&quot;https://cdn.jsdelivr.net/npm/leaflet@1.9.3/dist/leaflet.css&quot;/&gt;\n",
       "    &lt;link rel=&quot;stylesheet&quot; href=&quot;https://cdn.jsdelivr.net/npm/bootstrap@5.2.2/dist/css/bootstrap.min.css&quot;/&gt;\n",
       "    &lt;link rel=&quot;stylesheet&quot; href=&quot;https://netdna.bootstrapcdn.com/bootstrap/3.0.0/css/bootstrap.min.css&quot;/&gt;\n",
       "    &lt;link rel=&quot;stylesheet&quot; href=&quot;https://cdn.jsdelivr.net/npm/@fortawesome/fontawesome-free@6.2.0/css/all.min.css&quot;/&gt;\n",
       "    &lt;link rel=&quot;stylesheet&quot; href=&quot;https://cdnjs.cloudflare.com/ajax/libs/Leaflet.awesome-markers/2.0.2/leaflet.awesome-markers.css&quot;/&gt;\n",
       "    &lt;link rel=&quot;stylesheet&quot; href=&quot;https://cdn.jsdelivr.net/gh/python-visualization/folium/folium/templates/leaflet.awesome.rotate.min.css&quot;/&gt;\n",
       "    \n",
       "            &lt;meta name=&quot;viewport&quot; content=&quot;width=device-width,\n",
       "                initial-scale=1.0, maximum-scale=1.0, user-scalable=no&quot; /&gt;\n",
       "            &lt;style&gt;\n",
       "                #map_0c8a8953633d5676b4910e911a36dd5c {\n",
       "                    position: relative;\n",
       "                    width: 100.0%;\n",
       "                    height: 100.0%;\n",
       "                    left: 0.0%;\n",
       "                    top: 0.0%;\n",
       "                }\n",
       "                .leaflet-container { font-size: 1rem; }\n",
       "            &lt;/style&gt;\n",
       "        \n",
       "&lt;/head&gt;\n",
       "&lt;body&gt;\n",
       "    \n",
       "    \n",
       "            &lt;div class=&quot;folium-map&quot; id=&quot;map_0c8a8953633d5676b4910e911a36dd5c&quot; &gt;&lt;/div&gt;\n",
       "        \n",
       "&lt;/body&gt;\n",
       "&lt;script&gt;\n",
       "    \n",
       "    \n",
       "            var map_0c8a8953633d5676b4910e911a36dd5c = L.map(\n",
       "                &quot;map_0c8a8953633d5676b4910e911a36dd5c&quot;,\n",
       "                {\n",
       "                    center: [-12.251994449823227, -58.378921500000004],\n",
       "                    crs: L.CRS.EPSG3857,\n",
       "                    zoom: 12,\n",
       "                    zoomControl: true,\n",
       "                    preferCanvas: false,\n",
       "                }\n",
       "            );\n",
       "\n",
       "            \n",
       "\n",
       "        \n",
       "    \n",
       "            var tile_layer_fb14cb84c3ad9ac1c45705ecded27843 = L.tileLayer(\n",
       "                &quot;https://{s}.tile.openstreetmap.org/{z}/{x}/{y}.png&quot;,\n",
       "                {&quot;attribution&quot;: &quot;Data by \\u0026copy; \\u003ca target=\\&quot;_blank\\&quot; href=\\&quot;http://openstreetmap.org\\&quot;\\u003eOpenStreetMap\\u003c/a\\u003e, under \\u003ca target=\\&quot;_blank\\&quot; href=\\&quot;http://www.openstreetmap.org/copyright\\&quot;\\u003eODbL\\u003c/a\\u003e.&quot;, &quot;detectRetina&quot;: false, &quot;maxNativeZoom&quot;: 18, &quot;maxZoom&quot;: 18, &quot;minZoom&quot;: 0, &quot;noWrap&quot;: false, &quot;opacity&quot;: 1, &quot;subdomains&quot;: &quot;abc&quot;, &quot;tms&quot;: false}\n",
       "            ).addTo(map_0c8a8953633d5676b4910e911a36dd5c);\n",
       "        \n",
       "    \n",
       "            map_0c8a8953633d5676b4910e911a36dd5c.fitBounds(\n",
       "                [[-15.463528953850453, -60.497375], [-9.040459945796002, -56.260468]],\n",
       "                {}\n",
       "            );\n",
       "        \n",
       "    \n",
       "            var tile_layer_74e82bb2e8ad3b4c89538952d645a983 = L.tileLayer(\n",
       "                &quot;http://0.0.0.0:8000/mosaicjson/tiles/WebMercatorQuad/{z}/{x}/{y}@1x?url=%2Fhome%2Fwsq%2Fcode%2Fpython%2Ftitiler%2Ftitiler-mosaicJSON%2Fmosaic_jsons%2Ftci_mosaic.json&quot;,\n",
       "                {&quot;attribution&quot;: &quot;Big INPE&quot;, &quot;detectRetina&quot;: false, &quot;maxNativeZoom&quot;: 25, &quot;maxZoom&quot;: 25, &quot;minZoom&quot;: 8, &quot;noWrap&quot;: false, &quot;opacity&quot;: 1, &quot;subdomains&quot;: &quot;abc&quot;, &quot;tms&quot;: false}\n",
       "            ).addTo(map_0c8a8953633d5676b4910e911a36dd5c);\n",
       "        \n",
       "    \n",
       "        function geo_json_94f59f3c52f5fb3a65e1273a6bd619d7_styler(feature) {\n",
       "            switch(feature.properties.path) {\n",
       "                default:\n",
       "                    return {&quot;dashArray&quot;: &quot;1&quot;, &quot;fillOpacity&quot;: 0, &quot;opacity&quot;: 1, &quot;weight&quot;: 1};\n",
       "            }\n",
       "        }\n",
       "\n",
       "        function geo_json_94f59f3c52f5fb3a65e1273a6bd619d7_onEachFeature(feature, layer) {\n",
       "            layer.on({\n",
       "            });\n",
       "        };\n",
       "        var geo_json_94f59f3c52f5fb3a65e1273a6bd619d7 = L.geoJson(null, {\n",
       "                onEachFeature: geo_json_94f59f3c52f5fb3a65e1273a6bd619d7_onEachFeature,\n",
       "            \n",
       "                style: geo_json_94f59f3c52f5fb3a65e1273a6bd619d7_styler,\n",
       "        });\n",
       "\n",
       "        function geo_json_94f59f3c52f5fb3a65e1273a6bd619d7_add (data) {\n",
       "            geo_json_94f59f3c52f5fb3a65e1273a6bd619d7\n",
       "                .addData(data)\n",
       "                .addTo(map_0c8a8953633d5676b4910e911a36dd5c);\n",
       "        }\n",
       "            geo_json_94f59f3c52f5fb3a65e1273a6bd619d7_add({&quot;features&quot;: [{&quot;geometry&quot;: {&quot;coordinates&quot;: [[[-57.000183, -10.039321319540866], [-56.260468, -10.039321319540866], [-56.260468, -9.045193112731958], [-57.000183, -9.045193112731958], [-57.000183, -10.039321319540866]]], &quot;type&quot;: &quot;Polygon&quot;}, &quot;properties&quot;: {&quot;path&quot;: &quot;https://data.inpe.br/data/S2_L2A_COG/v001/21/L/WK/2023/4/S2B_TCI_20230424T140709_N0509_R110_T21LWK_20230424T164453.tif&quot;}, &quot;type&quot;: &quot;Feature&quot;}, {&quot;geometry&quot;: {&quot;coordinates&quot;: [[[-59.64572, -11.843108550826036], [-58.740112, -11.843108550826036], [-58.740112, -10.845634310892729], [-59.64572, -10.845634310892729], [-59.64572, -11.843108550826036]]], &quot;type&quot;: &quot;Polygon&quot;}, &quot;properties&quot;: {&quot;path&quot;: &quot;https://data.inpe.br/data/S2_L2A_COG/v001/21/L/TH/2023/4/S2B_TCI_20230424T140709_N0509_R110_T21LTH_20230424T164453.tif&quot;}, &quot;type&quot;: &quot;Feature&quot;}, {&quot;geometry&quot;: {&quot;coordinates&quot;: [[[-60.06711, -13.639279838457593], [-59.213898, -13.639279838457593], [-59.213898, -12.637300069420647], [-60.06711, -12.637300069420647], [-60.06711, -13.639279838457593]]], &quot;type&quot;: &quot;Polygon&quot;}, &quot;properties&quot;: {&quot;path&quot;: &quot;https://data.inpe.br/data/S2_L2A_COG/v001/20/L/RL/2023/4/S2B_TCI_20230424T140709_N0509_R110_T20LRL_20230424T164453.tif&quot;}, &quot;type&quot;: &quot;Feature&quot;}, {&quot;geometry&quot;: {&quot;coordinates&quot;: [[[-57.915527, -10.94391911995599], [-56.910675, -10.94391911995599], [-56.910675, -9.949620171830773], [-57.915527, -9.949620171830773], [-57.915527, -10.94391911995599]]], &quot;type&quot;: &quot;Polygon&quot;}, &quot;properties&quot;: {&quot;path&quot;: &quot;https://data.inpe.br/data/S2_L2A_COG/v001/21/L/VJ/2023/4/S2B_TCI_20230424T140709_N0509_R110_T21LVJ_20230424T164453.tif&quot;}, &quot;type&quot;: &quot;Feature&quot;}, {&quot;geometry&quot;: {&quot;coordinates&quot;: [[[-58.864075, -15.463421573787747], [-57.836975, -15.463421573787747], [-57.836975, -14.464971661637737], [-58.864075, -14.464971661637737], [-58.864075, -15.463421573787747]]], &quot;type&quot;: &quot;Polygon&quot;}, &quot;properties&quot;: {&quot;path&quot;: &quot;https://data.inpe.br/data/S2_L2A_COG/v001/21/L/UD/2023/4/S2B_TCI_20230424T140709_N0509_R110_T21LUD_20230424T164453.tif&quot;}, &quot;type&quot;: &quot;Feature&quot;}, {&quot;geometry&quot;: {&quot;coordinates&quot;: [[[-60.21756, -15.447385942788165], [-59.183014, -15.447385942788165], [-59.183014, -14.441617062918118], [-60.21756, -14.441617062918118], [-60.21756, -15.447385942788165]]], &quot;type&quot;: &quot;Polygon&quot;}, &quot;properties&quot;: {&quot;path&quot;: &quot;https://data.inpe.br/data/S2_L2A_COG/v001/20/L/RJ/2023/4/S2B_TCI_20230424T140709_N0509_R110_T20LRJ_20230424T164453.tif&quot;}, &quot;type&quot;: &quot;Feature&quot;}, {&quot;geometry&quot;: {&quot;coordinates&quot;: [[[-57.92157, -12.752167016247933], [-56.91034, -12.752167016247933], [-56.91034, -11.758024163247033], [-57.92157, -11.758024163247033], [-57.92157, -12.752167016247933]]], &quot;type&quot;: &quot;Polygon&quot;}, &quot;properties&quot;: {&quot;path&quot;: &quot;https://data.inpe.br/data/S2_L2A_COG/v001/21/L/VG/2023/4/S2B_TCI_20230424T140709_N0509_R110_T21LVG_20230424T164453.tif&quot;}, &quot;type&quot;: &quot;Feature&quot;}, {&quot;geometry&quot;: {&quot;coordinates&quot;: [[[-57.000183, -10.943932182721111], [-56.459503, -10.943932182721111], [-56.459503, -9.950055982188188], [-57.000183, -9.950055982188188], [-57.000183, -10.943932182721111]]], &quot;type&quot;: &quot;Polygon&quot;}, &quot;properties&quot;: {&quot;path&quot;: &quot;https://data.inpe.br/data/S2_L2A_COG/v001/21/L/WJ/2023/4/S2B_TCI_20230424T140709_N0509_R110_T21LWJ_20230424T164453.tif&quot;}, &quot;type&quot;: &quot;Feature&quot;}, {&quot;geometry&quot;: {&quot;coordinates&quot;: [[[-59.783936, -14.554596385506033], [-58.757935, -14.554596385506033], [-58.757935, -13.553063730961096], [-59.783936, -13.553063730961096], [-59.783936, -14.554596385506033]]], &quot;type&quot;: &quot;Polygon&quot;}, &quot;properties&quot;: {&quot;path&quot;: &quot;https://data.inpe.br/data/S2_L2A_COG/v001/21/L/TE/2023/4/S2B_TCI_20230424T140709_N0509_R110_T21LTE_20230424T164453.tif&quot;}, &quot;type&quot;: &quot;Feature&quot;}, {&quot;geometry&quot;: {&quot;coordinates&quot;: [[[-57.912872, -10.039309359061162], [-56.91095, -10.039309359061162], [-56.91095, -9.045070601654063], [-57.912872, -9.045070601654063], [-57.912872, -10.039309359061162]]], &quot;type&quot;: &quot;Polygon&quot;}, &quot;properties&quot;: {&quot;path&quot;: &quot;https://data.inpe.br/data/S2_L2A_COG/v001/21/L/VK/2023/4/S2B_TCI_20230424T140709_N0509_R110_T21LVK_20230424T164453.tif&quot;}, &quot;type&quot;: &quot;Feature&quot;}, {&quot;geometry&quot;: {&quot;coordinates&quot;: [[[-59.85498, -12.733294214098395], [-59.227753, -12.733294214098395], [-59.227753, -11.734756389848554], [-59.85498, -11.734756389848554], [-59.85498, -12.733294214098395]]], &quot;type&quot;: &quot;Polygon&quot;}, &quot;properties&quot;: {&quot;path&quot;: &quot;https://data.inpe.br/data/S2_L2A_COG/v001/20/L/RM/2023/4/S2B_TCI_20230424T140709_N0509_R110_T20LRM_20230424T164453.tif&quot;}, &quot;type&quot;: &quot;Feature&quot;}, {&quot;geometry&quot;: {&quot;coordinates&quot;: [[[-58.856262, -14.559758912788627], [-57.83368, -14.559758912788627], [-57.83368, -13.561609653141844], [-58.856262, -13.561609653141844], [-58.856262, -14.559758912788627]]], &quot;type&quot;: &quot;Polygon&quot;}, &quot;properties&quot;: {&quot;path&quot;: &quot;https://data.inpe.br/data/S2_L2A_COG/v001/21/L/UE/2023/4/S2B_TCI_20230424T140709_N0509_R110_T21LUE_20230424T164453.tif&quot;}, &quot;type&quot;: &quot;Feature&quot;}, {&quot;geometry&quot;: {&quot;coordinates&quot;: [[[-60.219604, -14.544701632012877], [-59.198975, -14.544701632012877], [-59.198975, -13.539769110035127], [-60.219604, -13.539769110035127], [-60.219604, -14.544701632012877]]], &quot;type&quot;: &quot;Polygon&quot;}, &quot;properties&quot;: {&quot;path&quot;: &quot;https://data.inpe.br/data/S2_L2A_COG/v001/20/L/RK/2023/4/S2B_TCI_20230424T140709_N0509_R110_T20LRK_20230424T164453.tif&quot;}, &quot;type&quot;: &quot;Feature&quot;}, {&quot;geometry&quot;: {&quot;coordinates&quot;: [[[-58.835876, -11.84727927337389], [-57.825256, -11.84727927337389], [-57.825256, -10.850043609987958], [-58.835876, -10.850043609987958], [-58.835876, -11.84727927337389]]], &quot;type&quot;: &quot;Polygon&quot;}, &quot;properties&quot;: {&quot;path&quot;: &quot;https://data.inpe.br/data/S2_L2A_COG/v001/21/L/UH/2023/4/S2B_TCI_20230424T140709_N0509_R110_T21LUH_20230424T164453.tif&quot;}, &quot;type&quot;: &quot;Feature&quot;}, {&quot;geometry&quot;: {&quot;coordinates&quot;: [[[-59.4346, -10.922880888736376], [-59.25244, -10.922880888736376], [-59.25244, -10.170900568218332], [-59.4346, -10.170900568218332], [-59.4346, -10.922880888736376]]], &quot;type&quot;: &quot;Polygon&quot;}, &quot;properties&quot;: {&quot;path&quot;: &quot;https://data.inpe.br/data/S2_L2A_COG/v001/20/L/RP/2023/4/S2B_TCI_20230424T140709_N0509_R110_T20LRP_20230424T164453.tif&quot;}, &quot;type&quot;: &quot;Feature&quot;}, {&quot;geometry&quot;: {&quot;coordinates&quot;: [[[-57.924988, -13.656246470265858], [-57.058716, -13.656246470265858], [-57.058716, -12.662412634168817], [-57.924988, -12.662412634168817], [-57.924988, -13.656246470265858]]], &quot;type&quot;: &quot;Polygon&quot;}, &quot;properties&quot;: {&quot;path&quot;: &quot;https://data.inpe.br/data/S2_L2A_COG/v001/21/L/VF/2023/4/S2B_TCI_20230424T140709_N0509_R110_T21LVF_20230424T164453.tif&quot;}, &quot;type&quot;: &quot;Feature&quot;}, {&quot;geometry&quot;: {&quot;coordinates&quot;: [[[-59.64392, -11.828186120522915], [-59.2406, -11.828186120522915], [-59.2406, -10.832684732479947], [-59.64392, -10.832684732479947], [-59.64392, -11.828186120522915]]], &quot;type&quot;: &quot;Polygon&quot;}, &quot;properties&quot;: {&quot;path&quot;: &quot;https://data.inpe.br/data/S2_L2A_COG/v001/20/L/RN/2023/4/S2B_TCI_20230424T140709_N0509_R110_T20LRN_20230424T164453.tif&quot;}, &quot;type&quot;: &quot;Feature&quot;}, {&quot;geometry&quot;: {&quot;coordinates&quot;: [[[-59.795624, -15.45792359415322], [-58.7648, -15.45792359415322], [-58.7648, -14.455833273682469], [-59.795624, -14.455833273682469], [-59.795624, -15.45792359415322]]], &quot;type&quot;: &quot;Polygon&quot;}, &quot;properties&quot;: {&quot;path&quot;: &quot;https://data.inpe.br/data/S2_L2A_COG/v001/21/L/TD/2023/4/S2B_TCI_20230424T140709_N0509_R110_T21LTD_20230424T164453.tif&quot;}, &quot;type&quot;: &quot;Feature&quot;}, {&quot;geometry&quot;: {&quot;coordinates&quot;: [[[-59.437134, -10.93897214097354], [-58.735107, -10.93897214097354], [-58.735107, -9.943195371092482], [-59.437134, -9.943195371092482], [-59.437134, -10.93897214097354]]], &quot;type&quot;: &quot;Polygon&quot;}, &quot;properties&quot;: {&quot;path&quot;: &quot;https://data.inpe.br/data/S2_L2A_COG/v001/21/L/TJ/2023/4/S2B_TCI_20230424T140709_N0509_R110_T21LTJ_20230424T164453.tif&quot;}, &quot;type&quot;: &quot;Feature&quot;}, {&quot;geometry&quot;: {&quot;coordinates&quot;: [[[-58.8248, -10.03829984546704], [-57.82071, -10.03829984546704], [-57.82071, -9.041685447323783], [-58.8248, -9.041685447323783], [-58.8248, -10.03829984546704]]], &quot;type&quot;: &quot;Polygon&quot;}, &quot;properties&quot;: {&quot;path&quot;: &quot;https://data.inpe.br/data/S2_L2A_COG/v001/21/L/UK/2023/4/S2B_TCI_20230424T140709_N0509_R110_T21LUK_20230424T164453.tif&quot;}, &quot;type&quot;: &quot;Feature&quot;}, {&quot;geometry&quot;: {&quot;coordinates&quot;: [[[-57.000183, -12.399435152668259], [-56.85858, -12.399435152668259], [-56.85858, -11.75925146635013], [-57.000183, -11.75925146635013], [-57.000183, -12.399435152668259]]], &quot;type&quot;: &quot;Polygon&quot;}, &quot;properties&quot;: {&quot;path&quot;: &quot;https://data.inpe.br/data/S2_L2A_COG/v001/21/L/WG/2023/4/S2B_TCI_20230424T140709_N0509_R110_T21LWG_20230424T164453.tif&quot;}, &quot;type&quot;: &quot;Feature&quot;}, {&quot;geometry&quot;: {&quot;coordinates&quot;: [[[-57.918427, -11.848475404292838], [-56.9104, -11.848475404292838], [-56.9104, -10.854120303387177], [-57.918427, -10.854120303387177], [-57.918427, -11.848475404292838]]], &quot;type&quot;: &quot;Polygon&quot;}, &quot;properties&quot;: {&quot;path&quot;: &quot;https://data.inpe.br/data/S2_L2A_COG/v001/21/L/VH/2023/4/S2B_TCI_20230424T140709_N0509_R110_T21LVH_20230424T164453.tif&quot;}, &quot;type&quot;: &quot;Feature&quot;}, {&quot;geometry&quot;: {&quot;coordinates&quot;: [[[-60.28119, -14.545176327901327], [-60.125793, -14.545176327901327], [-60.125793, -13.91959963301751], [-60.28119, -13.91959963301751], [-60.28119, -14.545176327901327]]], &quot;type&quot;: &quot;Polygon&quot;}, &quot;properties&quot;: {&quot;path&quot;: &quot;https://data.inpe.br/data/S2_L2A_COG/v001/20/L/QK/2023/4/S2B_TCI_20230424T140709_N0509_R110_T20LQK_20230424T164453.tif&quot;}, &quot;type&quot;: &quot;Feature&quot;}, {&quot;geometry&quot;: {&quot;coordinates&quot;: [[[-59.762817, -12.746642334790963], [-58.745575, -12.746642334790963], [-58.745575, -11.747229666563424], [-59.762817, -11.747229666563424], [-59.762817, -12.746642334790963]]], &quot;type&quot;: &quot;Polygon&quot;}, &quot;properties&quot;: {&quot;path&quot;: &quot;https://data.inpe.br/data/S2_L2A_COG/v001/21/L/TG/2023/4/S2B_TCI_20230424T140709_N0509_R110_T21LTG_20230424T164453.tif&quot;}, &quot;type&quot;: &quot;Feature&quot;}, {&quot;geometry&quot;: {&quot;coordinates&quot;: [[[-57.92862, -14.560216885506556], [-57.259766, -14.560216885506556], [-57.259766, -13.566738958980503], [-57.92862, -13.566738958980503], [-57.92862, -14.560216885506556]]], &quot;type&quot;: &quot;Polygon&quot;}, &quot;properties&quot;: {&quot;path&quot;: &quot;https://data.inpe.br/data/S2_L2A_COG/v001/21/L/VE/2023/4/S2B_TCI_20230424T140709_N0509_R110_T21LVE_20230424T164453.tif&quot;}, &quot;type&quot;: &quot;Feature&quot;}, {&quot;geometry&quot;: {&quot;coordinates&quot;: [[[-58.84897, -13.655483318755016], [-57.830658, -13.655483318755016], [-57.830658, -12.657636587187465], [-58.84897, -12.657636587187465], [-58.84897, -13.655483318755016]]], &quot;type&quot;: &quot;Polygon&quot;}, &quot;properties&quot;: {&quot;path&quot;: &quot;https://data.inpe.br/data/S2_L2A_COG/v001/21/L/UF/2023/4/S2B_TCI_20230424T140709_N0509_R110_T21LUF_20230424T164453.tif&quot;}, &quot;type&quot;: &quot;Feature&quot;}, {&quot;geometry&quot;: {&quot;coordinates&quot;: [[[-59.229523, -10.034779818934492], [-58.73056, -10.034779818934492], [-58.73056, -9.040459945796002], [-59.229523, -9.040459945796002], [-59.229523, -10.034779818934492]]], &quot;type&quot;: &quot;Polygon&quot;}, &quot;properties&quot;: {&quot;path&quot;: &quot;https://data.inpe.br/data/S2_L2A_COG/v001/21/L/TK/2023/4/S2B_TCI_20230424T140709_N0509_R110_T21LTK_20230424T164453.tif&quot;}, &quot;type&quot;: &quot;Feature&quot;}, {&quot;geometry&quot;: {&quot;coordinates&quot;: [[[-58.83011, -10.942816569269826], [-57.822876, -10.942816569269826], [-57.822876, -9.945890159770508], [-58.83011, -9.945890159770508], [-58.83011, -10.942816569269826]]], &quot;type&quot;: &quot;Polygon&quot;}, &quot;properties&quot;: {&quot;path&quot;: &quot;https://data.inpe.br/data/S2_L2A_COG/v001/21/L/UJ/2023/4/S2B_TCI_20230424T140709_N0509_R110_T21LUJ_20230424T164453.tif&quot;}, &quot;type&quot;: &quot;Feature&quot;}, {&quot;geometry&quot;: {&quot;coordinates&quot;: [[[-57.000183, -11.848489575779432], [-56.658752, -11.848489575779432], [-56.658752, -10.854924201584017], [-57.000183, -10.854924201584017], [-57.000183, -11.848489575779432]]], &quot;type&quot;: &quot;Polygon&quot;}, &quot;properties&quot;: {&quot;path&quot;: &quot;https://data.inpe.br/data/S2_L2A_COG/v001/21/L/WH/2023/4/S2B_TCI_20230424T140709_N0509_R110_T21LWH_20230424T164453.tif&quot;}, &quot;type&quot;: &quot;Feature&quot;}, {&quot;geometry&quot;: {&quot;coordinates&quot;: [[[-60.497375, -15.450330896888826], [-60.113678, -15.450330896888826], [-60.113678, -14.454748676091539], [-60.497375, -14.454748676091539], [-60.497375, -15.450330896888826]]], &quot;type&quot;: &quot;Polygon&quot;}, &quot;properties&quot;: {&quot;path&quot;: &quot;https://data.inpe.br/data/S2_L2A_COG/v001/20/L/QJ/2023/4/S2B_TCI_20230424T140709_N0509_R110_T20LQJ_20230424T164453.tif&quot;}, &quot;type&quot;: &quot;Feature&quot;}, {&quot;geometry&quot;: {&quot;coordinates&quot;: [[[-57.932556, -15.463528953850453], [-57.4606, -15.463528953850453], [-57.4606, -14.470456590303131], [-57.932556, -14.470456590303131], [-57.932556, -15.463528953850453]]], &quot;type&quot;: &quot;Polygon&quot;}, &quot;properties&quot;: {&quot;path&quot;: &quot;https://data.inpe.br/data/S2_L2A_COG/v001/21/L/VD/2023/4/S2B_TCI_20230424T140709_N0509_R110_T21LVD_20230424T164453.tif&quot;}, &quot;type&quot;: &quot;Feature&quot;}, {&quot;geometry&quot;: {&quot;coordinates&quot;: [[[-58.842163, -12.751141220903948], [-57.82785, -12.751141220903948], [-57.82785, -11.753598992978919], [-58.842163, -11.753598992978919], [-58.842163, -12.751141220903948]]], &quot;type&quot;: &quot;Polygon&quot;}, &quot;properties&quot;: {&quot;path&quot;: &quot;https://data.inpe.br/data/S2_L2A_COG/v001/21/L/UG/2023/4/S2B_TCI_20230424T140709_N0509_R110_T21LUG_20230424T164453.tif&quot;}, &quot;type&quot;: &quot;Feature&quot;}, {&quot;geometry&quot;: {&quot;coordinates&quot;: [[[-59.77298, -13.650653826925707], [-58.751526, -13.650653826925707], [-58.751526, -12.649679199222875], [-59.77298, -12.649679199222875], [-59.77298, -13.650653826925707]]], &quot;type&quot;: &quot;Polygon&quot;}, &quot;properties&quot;: {&quot;path&quot;: &quot;https://data.inpe.br/data/S2_L2A_COG/v001/21/L/TF/2023/4/S2B_TCI_20230424T140709_N0509_R110_T21LTF_20230424T164453.tif&quot;}, &quot;type&quot;: &quot;Feature&quot;}], &quot;type&quot;: &quot;FeatureCollection&quot;});\n",
       "\n",
       "        \n",
       "&lt;/script&gt;\n",
       "&lt;/html&gt;\" style=\"position:absolute;width:100%;height:100%;left:0;top:0;border:none !important;\" allowfullscreen webkitallowfullscreen mozallowfullscreen></iframe></div></div>"
      ],
      "text/plain": [
       "<folium.folium.Map at 0x7fb4952772b0>"
      ]
     },
     "execution_count": 33,
     "metadata": {},
     "output_type": "execute_result"
    }
   ],
   "source": [
    "tiles = TileLayer(\n",
    "    tiles=response[\"tiles\"][0],\n",
    "    min_zoom=8,\n",
    "    max_zoom=25,\n",
    "    opacity=1,\n",
    "    attr=\"Big INPE\"\n",
    ")\n",
    "\n",
    "geo_json = GeoJson(\n",
    "    data=geojson,\n",
    "    style_function=lambda x: {\n",
    "        'opacity': 1, 'dashArray': '1', 'fillOpacity': 0, 'weight': 1\n",
    "    },\n",
    ")\n",
    "\n",
    "m = Map(\n",
    "    location=((south + north) / 2,(west + east) / 2),\n",
    "    zoom_start=12\n",
    ")\n",
    "\n",
    "m.fit_bounds(\n",
    "    bounds=[\n",
    "        [south, west], # SouthWest\n",
    "        [north, east], # NorthEast\n",
    "    ]\n",
    ")\n",
    "\n",
    "tiles.add_to(m)\n",
    "geo_json.add_to(m)\n",
    "m"
   ]
  }
 ],
 "metadata": {
  "kernelspec": {
   "display_name": ".venv",
   "language": "python",
   "name": "python3"
  },
  "language_info": {
   "codemirror_mode": {
    "name": "ipython",
    "version": 3
   },
   "file_extension": ".py",
   "mimetype": "text/x-python",
   "name": "python",
   "nbconvert_exporter": "python",
   "pygments_lexer": "ipython3",
   "version": "3.8.10"
  },
  "orig_nbformat": 4
 },
 "nbformat": 4,
 "nbformat_minor": 2
}
